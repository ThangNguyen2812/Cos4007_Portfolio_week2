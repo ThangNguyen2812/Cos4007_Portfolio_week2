{
 "cells": [
  {
   "cell_type": "markdown",
   "id": "105c15ce",
   "metadata": {},
   "source": [
    "# COS40007 Portfolio - Improved Notebook\n",
    "Dataset: Folds5x2_pp.csv"
   ]
  },
  {
   "cell_type": "code",
   "execution_count": 1,
   "id": "f2489032",
   "metadata": {},
   "outputs": [
    {
     "name": "stdout",
     "output_type": "stream",
     "text": [
      "Dataset shape: (9568, 5)\n",
      "Columns in dataset: ['AT', 'V', 'AP', 'RH', 'PE']\n"
     ]
    },
    {
     "data": {
      "text/html": [
       "<div>\n",
       "<style scoped>\n",
       "    .dataframe tbody tr th:only-of-type {\n",
       "        vertical-align: middle;\n",
       "    }\n",
       "\n",
       "    .dataframe tbody tr th {\n",
       "        vertical-align: top;\n",
       "    }\n",
       "\n",
       "    .dataframe thead th {\n",
       "        text-align: right;\n",
       "    }\n",
       "</style>\n",
       "<table border=\"1\" class=\"dataframe\">\n",
       "  <thead>\n",
       "    <tr style=\"text-align: right;\">\n",
       "      <th></th>\n",
       "      <th>AT</th>\n",
       "      <th>V</th>\n",
       "      <th>AP</th>\n",
       "      <th>RH</th>\n",
       "      <th>PE</th>\n",
       "    </tr>\n",
       "  </thead>\n",
       "  <tbody>\n",
       "    <tr>\n",
       "      <th>0</th>\n",
       "      <td>8.34</td>\n",
       "      <td>40.77</td>\n",
       "      <td>1010.84</td>\n",
       "      <td>90.01</td>\n",
       "      <td>480.48</td>\n",
       "    </tr>\n",
       "    <tr>\n",
       "      <th>1</th>\n",
       "      <td>23.64</td>\n",
       "      <td>58.49</td>\n",
       "      <td>1011.40</td>\n",
       "      <td>74.20</td>\n",
       "      <td>445.75</td>\n",
       "    </tr>\n",
       "    <tr>\n",
       "      <th>2</th>\n",
       "      <td>29.74</td>\n",
       "      <td>56.90</td>\n",
       "      <td>1007.15</td>\n",
       "      <td>41.91</td>\n",
       "      <td>438.76</td>\n",
       "    </tr>\n",
       "    <tr>\n",
       "      <th>3</th>\n",
       "      <td>19.07</td>\n",
       "      <td>49.69</td>\n",
       "      <td>1007.22</td>\n",
       "      <td>76.79</td>\n",
       "      <td>453.09</td>\n",
       "    </tr>\n",
       "    <tr>\n",
       "      <th>4</th>\n",
       "      <td>11.80</td>\n",
       "      <td>40.66</td>\n",
       "      <td>1017.13</td>\n",
       "      <td>97.20</td>\n",
       "      <td>464.43</td>\n",
       "    </tr>\n",
       "  </tbody>\n",
       "</table>\n",
       "</div>"
      ],
      "text/plain": [
       "      AT      V       AP     RH      PE\n",
       "0   8.34  40.77  1010.84  90.01  480.48\n",
       "1  23.64  58.49  1011.40  74.20  445.75\n",
       "2  29.74  56.90  1007.15  41.91  438.76\n",
       "3  19.07  49.69  1007.22  76.79  453.09\n",
       "4  11.80  40.66  1017.13  97.20  464.43"
      ]
     },
     "metadata": {},
     "output_type": "display_data"
    }
   ],
   "source": [
    "import pandas as pd\n",
    "import numpy as np\n",
    "import matplotlib.pyplot as plt\n",
    "import seaborn as sns\n",
    "\n",
    "from sklearn.model_selection import train_test_split, cross_val_score, GridSearchCV\n",
    "from sklearn.preprocessing import MinMaxScaler\n",
    "from sklearn.tree import DecisionTreeClassifier\n",
    "from sklearn.metrics import accuracy_score, f1_score, confusion_matrix\n",
    "from IPython.display import display\n",
    "\n",
    "# Load dataset\n",
    "df = pd.read_csv(\"Folds5x2_pp.csv\")\n",
    "# Fix column names (remove hidden spaces/tabs)\n",
    "df.columns = df.columns.str.strip()\n",
    "\n",
    "print(\"Dataset shape:\", df.shape)\n",
    "print(\"Columns in dataset:\", df.columns.tolist())\n",
    "display(df.head())"
   ]
  },
  {
   "cell_type": "markdown",
   "id": "3a5a384a",
   "metadata": {},
   "source": [
    "## 1. Basic EDA + Cleaning"
   ]
  },
  {
   "cell_type": "code",
   "execution_count": 2,
   "id": "5b0d1055",
   "metadata": {},
   "outputs": [
    {
     "name": "stdout",
     "output_type": "stream",
     "text": [
      "<class 'pandas.core.frame.DataFrame'>\n",
      "RangeIndex: 9568 entries, 0 to 9567\n",
      "Data columns (total 5 columns):\n",
      " #   Column  Non-Null Count  Dtype  \n",
      "---  ------  --------------  -----  \n",
      " 0   AT      9568 non-null   float64\n",
      " 1   V       9568 non-null   float64\n",
      " 2   AP      9568 non-null   float64\n",
      " 3   RH      9568 non-null   float64\n",
      " 4   PE      9568 non-null   float64\n",
      "dtypes: float64(5)\n",
      "memory usage: 373.9 KB\n"
     ]
    },
    {
     "data": {
      "text/html": [
       "<div>\n",
       "<style scoped>\n",
       "    .dataframe tbody tr th:only-of-type {\n",
       "        vertical-align: middle;\n",
       "    }\n",
       "\n",
       "    .dataframe tbody tr th {\n",
       "        vertical-align: top;\n",
       "    }\n",
       "\n",
       "    .dataframe thead th {\n",
       "        text-align: right;\n",
       "    }\n",
       "</style>\n",
       "<table border=\"1\" class=\"dataframe\">\n",
       "  <thead>\n",
       "    <tr style=\"text-align: right;\">\n",
       "      <th></th>\n",
       "      <th>count</th>\n",
       "      <th>mean</th>\n",
       "      <th>std</th>\n",
       "      <th>min</th>\n",
       "      <th>25%</th>\n",
       "      <th>50%</th>\n",
       "      <th>75%</th>\n",
       "      <th>max</th>\n",
       "    </tr>\n",
       "  </thead>\n",
       "  <tbody>\n",
       "    <tr>\n",
       "      <th>AT</th>\n",
       "      <td>9568.0</td>\n",
       "      <td>19.651231</td>\n",
       "      <td>7.452473</td>\n",
       "      <td>1.81</td>\n",
       "      <td>13.5100</td>\n",
       "      <td>20.345</td>\n",
       "      <td>25.72</td>\n",
       "      <td>37.11</td>\n",
       "    </tr>\n",
       "    <tr>\n",
       "      <th>V</th>\n",
       "      <td>9568.0</td>\n",
       "      <td>54.305804</td>\n",
       "      <td>12.707893</td>\n",
       "      <td>25.36</td>\n",
       "      <td>41.7400</td>\n",
       "      <td>52.080</td>\n",
       "      <td>66.54</td>\n",
       "      <td>81.56</td>\n",
       "    </tr>\n",
       "    <tr>\n",
       "      <th>AP</th>\n",
       "      <td>9568.0</td>\n",
       "      <td>1013.259078</td>\n",
       "      <td>5.938784</td>\n",
       "      <td>992.89</td>\n",
       "      <td>1009.1000</td>\n",
       "      <td>1012.940</td>\n",
       "      <td>1017.26</td>\n",
       "      <td>1033.30</td>\n",
       "    </tr>\n",
       "    <tr>\n",
       "      <th>RH</th>\n",
       "      <td>9568.0</td>\n",
       "      <td>73.308978</td>\n",
       "      <td>14.600269</td>\n",
       "      <td>25.56</td>\n",
       "      <td>63.3275</td>\n",
       "      <td>74.975</td>\n",
       "      <td>84.83</td>\n",
       "      <td>100.16</td>\n",
       "    </tr>\n",
       "    <tr>\n",
       "      <th>PE</th>\n",
       "      <td>9568.0</td>\n",
       "      <td>454.365009</td>\n",
       "      <td>17.066995</td>\n",
       "      <td>420.26</td>\n",
       "      <td>439.7500</td>\n",
       "      <td>451.550</td>\n",
       "      <td>468.43</td>\n",
       "      <td>495.76</td>\n",
       "    </tr>\n",
       "  </tbody>\n",
       "</table>\n",
       "</div>"
      ],
      "text/plain": [
       "     count         mean        std     min        25%       50%      75%  \\\n",
       "AT  9568.0    19.651231   7.452473    1.81    13.5100    20.345    25.72   \n",
       "V   9568.0    54.305804  12.707893   25.36    41.7400    52.080    66.54   \n",
       "AP  9568.0  1013.259078   5.938784  992.89  1009.1000  1012.940  1017.26   \n",
       "RH  9568.0    73.308978  14.600269   25.56    63.3275    74.975    84.83   \n",
       "PE  9568.0   454.365009  17.066995  420.26   439.7500   451.550   468.43   \n",
       "\n",
       "        max  \n",
       "AT    37.11  \n",
       "V     81.56  \n",
       "AP  1033.30  \n",
       "RH   100.16  \n",
       "PE   495.76  "
      ]
     },
     "metadata": {},
     "output_type": "display_data"
    },
    {
     "name": "stdout",
     "output_type": "stream",
     "text": [
      "Missing values per column:\n"
     ]
    },
    {
     "data": {
      "text/html": [
       "<div>\n",
       "<style scoped>\n",
       "    .dataframe tbody tr th:only-of-type {\n",
       "        vertical-align: middle;\n",
       "    }\n",
       "\n",
       "    .dataframe tbody tr th {\n",
       "        vertical-align: top;\n",
       "    }\n",
       "\n",
       "    .dataframe thead th {\n",
       "        text-align: right;\n",
       "    }\n",
       "</style>\n",
       "<table border=\"1\" class=\"dataframe\">\n",
       "  <thead>\n",
       "    <tr style=\"text-align: right;\">\n",
       "      <th></th>\n",
       "      <th>Missing</th>\n",
       "    </tr>\n",
       "  </thead>\n",
       "  <tbody>\n",
       "    <tr>\n",
       "      <th>AT</th>\n",
       "      <td>0</td>\n",
       "    </tr>\n",
       "    <tr>\n",
       "      <th>V</th>\n",
       "      <td>0</td>\n",
       "    </tr>\n",
       "    <tr>\n",
       "      <th>AP</th>\n",
       "      <td>0</td>\n",
       "    </tr>\n",
       "    <tr>\n",
       "      <th>RH</th>\n",
       "      <td>0</td>\n",
       "    </tr>\n",
       "    <tr>\n",
       "      <th>PE</th>\n",
       "      <td>0</td>\n",
       "    </tr>\n",
       "  </tbody>\n",
       "</table>\n",
       "</div>"
      ],
      "text/plain": [
       "    Missing\n",
       "AT        0\n",
       "V         0\n",
       "AP        0\n",
       "RH        0\n",
       "PE        0"
      ]
     },
     "metadata": {},
     "output_type": "display_data"
    },
    {
     "name": "stdout",
     "output_type": "stream",
     "text": [
      "Shape after cleaning: (9568, 5)\n"
     ]
    }
   ],
   "source": [
    "df.info()\n",
    "display(df.describe().T)\n",
    "\n",
    "# Missing values check\n",
    "print(\"Missing values per column:\")\n",
    "display(df.isnull().sum().to_frame(\"Missing\"))\n",
    "\n",
    "# If missing → impute with median\n",
    "for col in df.columns:\n",
    "    if df[col].isnull().sum() > 0:\n",
    "        df[col].fillna(df[col].median(), inplace=True)\n",
    "\n",
    "# Remove constant/irrelevant features\n",
    "const_cols = [col for col in df.columns if df[col].nunique() == 1]\n",
    "df.drop(columns=const_cols, inplace=True)\n",
    "\n",
    "print(\"Shape after cleaning:\", df.shape)"
   ]
  },
  {
   "cell_type": "markdown",
   "id": "2458a269",
   "metadata": {},
   "source": [
    "## 2. Outliers + Correlation"
   ]
  },
  {
   "cell_type": "code",
   "execution_count": 3,
   "id": "325f9dc4",
   "metadata": {},
   "outputs": [
    {
     "data": {
      "image/png": "[encoded data removed]",
      "text/plain": [
       "<Figure size 500x200 with 1 Axes>"
      ]
     },
     "metadata": {},
     "output_type": "display_data"
    },
    {
     "data": {
      "image/png": "[encoded data removed]",
      "text/plain": [
       "<Figure size 500x200 with 1 Axes>"
      ]
     },
     "metadata": {},
     "output_type": "display_data"
    },
    {
     "data": {
      "image/png": "[encoded data removed]",
      "text/plain": [
       "<Figure size 500x200 with 1 Axes>"
      ]
     },
     "metadata": {},
     "output_type": "display_data"
    },
    {
     "data": {
      "image/png": "[encoded data removed]",
      "text/plain": [
       "<Figure size 500x200 with 1 Axes>"
      ]
     },
     "metadata": {},
     "output_type": "display_data"
    },
    {
     "data": {
      "image/png": "[encoded data removed]",
      "text/plain": [
       "<Figure size 500x200 with 1 Axes>"
      ]
     },
     "metadata": {},
     "output_type": "display_data"
    },
    {
     "data": {
      "image/png": "[encoded data removed]",
      "text/plain": [
       "<Figure size 600x400 with 2 Axes>"
      ]
     },
     "metadata": {},
     "output_type": "display_data"
    },
    {
     "name": "stdout",
     "output_type": "stream",
     "text": [
      "Dropped highly correlated features (excluding target): []\n",
      "Remaining columns: ['AT', 'V', 'AP', 'RH', 'PE']\n"
     ]
    }
   ],
   "source": [
    "# Boxplots\n",
    "for col in df.columns:\n",
    "    if np.issubdtype(df[col].dtype, np.number):\n",
    "        plt.figure(figsize=(5,2))\n",
    "        sns.boxplot(x=df[col])\n",
    "        plt.title(f\"Boxplot: {col}\")\n",
    "        plt.show()\n",
    "\n",
    "# Correlation heatmap\n",
    "plt.figure(figsize=(6,4))\n",
    "sns.heatmap(df.corr(), annot=True, cmap=\"coolwarm\")\n",
    "plt.title(\"Correlation Heatmap\")\n",
    "plt.show()\n",
    "\n",
    "# Drop highly correlated features (>0.9), but NEVER drop the target column\n",
    "target_col = \"PE\"\n",
    "corr_matrix = df.corr().abs()\n",
    "upper = corr_matrix.where(np.triu(np.ones(corr_matrix.shape), k=1).astype(bool))\n",
    "\n",
    "to_drop = [col for col in upper.columns if any(upper[col] > 0.9) and col != target_col]\n",
    "\n",
    "df.drop(columns=to_drop, inplace=True)\n",
    "print(\"Dropped highly correlated features (excluding target):\", to_drop)\n",
    "print(\"Remaining columns:\", df.columns.tolist())\n"
   ]
  },
  {
   "cell_type": "markdown",
   "id": "4ce779aa",
   "metadata": {},
   "source": [
    "## 3. Class Labelling (Discretization)"
   ]
  },
  {
   "cell_type": "code",
   "execution_count": 4,
   "id": "313257f4-3cf5-42c7-9940-56ea2b56c034",
   "metadata": {},
   "outputs": [
    {
     "name": "stdout",
     "output_type": "stream",
     "text": [
      "Columns: ['AT', 'V', 'AP', 'RH', 'PE']\n",
      "Exact repr of columns:\n",
      "'AT'\n",
      "'V'\n",
      "'AP'\n",
      "'RH'\n",
      "'PE'\n",
      "Class distribution:\n"
     ]
    },
    {
     "data": {
      "text/html": [
       "<div>\n",
       "<style scoped>\n",
       "    .dataframe tbody tr th:only-of-type {\n",
       "        vertical-align: middle;\n",
       "    }\n",
       "\n",
       "    .dataframe tbody tr th {\n",
       "        vertical-align: top;\n",
       "    }\n",
       "\n",
       "    .dataframe thead th {\n",
       "        text-align: right;\n",
       "    }\n",
       "</style>\n",
       "<table border=\"1\" class=\"dataframe\">\n",
       "  <thead>\n",
       "    <tr style=\"text-align: right;\">\n",
       "      <th></th>\n",
       "      <th>Proportion</th>\n",
       "    </tr>\n",
       "    <tr>\n",
       "      <th>target_label</th>\n",
       "      <th></th>\n",
       "    </tr>\n",
       "  </thead>\n",
       "  <tbody>\n",
       "    <tr>\n",
       "      <th>2</th>\n",
       "      <td>0.250209</td>\n",
       "    </tr>\n",
       "    <tr>\n",
       "      <th>0</th>\n",
       "      <td>0.250105</td>\n",
       "    </tr>\n",
       "    <tr>\n",
       "      <th>1</th>\n",
       "      <td>0.249895</td>\n",
       "    </tr>\n",
       "    <tr>\n",
       "      <th>3</th>\n",
       "      <td>0.249791</td>\n",
       "    </tr>\n",
       "  </tbody>\n",
       "</table>\n",
       "</div>"
      ],
      "text/plain": [
       "              Proportion\n",
       "target_label            \n",
       "2               0.250209\n",
       "0               0.250105\n",
       "1               0.249895\n",
       "3               0.249791"
      ]
     },
     "metadata": {},
     "output_type": "display_data"
    }
   ],
   "source": [
    "target_col = \"PE\"\n",
    "print(\"Columns:\", df.columns.tolist())\n",
    "print(\"Exact repr of columns:\")\n",
    "for col in df.columns:\n",
    "    print(repr(col))\n",
    "df[\"target_label\"] = pd.qcut(df[target_col], q=4, labels=False)\n",
    "\n",
    "print(\"Class distribution:\")\n",
    "display(df[\"target_label\"].value_counts(normalize=True).to_frame(\"Proportion\"))\n"
   ]
  },
  {
   "cell_type": "markdown",
   "id": "dca4b99e",
   "metadata": {},
   "source": [
    "## 4. Normalisation + Log Transform"
   ]
  },
  {
   "cell_type": "code",
   "execution_count": 5,
   "id": "e44e48b2",
   "metadata": {},
   "outputs": [
    {
     "name": "stdout",
     "output_type": "stream",
     "text": [
      "Transformed dataset shape: (9568, 7)\n"
     ]
    },
    {
     "data": {
      "text/html": [
       "<div>\n",
       "<style scoped>\n",
       "    .dataframe tbody tr th:only-of-type {\n",
       "        vertical-align: middle;\n",
       "    }\n",
       "\n",
       "    .dataframe tbody tr th {\n",
       "        vertical-align: top;\n",
       "    }\n",
       "\n",
       "    .dataframe thead th {\n",
       "        text-align: right;\n",
       "    }\n",
       "</style>\n",
       "<table border=\"1\" class=\"dataframe\">\n",
       "  <thead>\n",
       "    <tr style=\"text-align: right;\">\n",
       "      <th></th>\n",
       "      <th>AT</th>\n",
       "      <th>V</th>\n",
       "      <th>AP</th>\n",
       "      <th>RH</th>\n",
       "      <th>PE</th>\n",
       "      <th>target_label</th>\n",
       "      <th>AT_binned</th>\n",
       "    </tr>\n",
       "  </thead>\n",
       "  <tbody>\n",
       "    <tr>\n",
       "      <th>0</th>\n",
       "      <td>0.184986</td>\n",
       "      <td>0.274199</td>\n",
       "      <td>0.444197</td>\n",
       "      <td>0.863941</td>\n",
       "      <td>480.48</td>\n",
       "      <td>3</td>\n",
       "      <td>0</td>\n",
       "    </tr>\n",
       "    <tr>\n",
       "      <th>1</th>\n",
       "      <td>0.618414</td>\n",
       "      <td>0.589502</td>\n",
       "      <td>0.458055</td>\n",
       "      <td>0.652011</td>\n",
       "      <td>445.75</td>\n",
       "      <td>1</td>\n",
       "      <td>2</td>\n",
       "    </tr>\n",
       "    <tr>\n",
       "      <th>2</th>\n",
       "      <td>0.791218</td>\n",
       "      <td>0.561210</td>\n",
       "      <td>0.352883</td>\n",
       "      <td>0.219169</td>\n",
       "      <td>438.76</td>\n",
       "      <td>0</td>\n",
       "      <td>3</td>\n",
       "    </tr>\n",
       "    <tr>\n",
       "      <th>3</th>\n",
       "      <td>0.488952</td>\n",
       "      <td>0.432918</td>\n",
       "      <td>0.354615</td>\n",
       "      <td>0.686729</td>\n",
       "      <td>453.09</td>\n",
       "      <td>2</td>\n",
       "      <td>1</td>\n",
       "    </tr>\n",
       "    <tr>\n",
       "      <th>4</th>\n",
       "      <td>0.283003</td>\n",
       "      <td>0.272242</td>\n",
       "      <td>0.599852</td>\n",
       "      <td>0.960322</td>\n",
       "      <td>464.43</td>\n",
       "      <td>2</td>\n",
       "      <td>1</td>\n",
       "    </tr>\n",
       "  </tbody>\n",
       "</table>\n",
       "</div>"
      ],
      "text/plain": [
       "         AT         V        AP        RH      PE  target_label  AT_binned\n",
       "0  0.184986  0.274199  0.444197  0.863941  480.48             3          0\n",
       "1  0.618414  0.589502  0.458055  0.652011  445.75             1          2\n",
       "2  0.791218  0.561210  0.352883  0.219169  438.76             0          3\n",
       "3  0.488952  0.432918  0.354615  0.686729  453.09             2          1\n",
       "4  0.283003  0.272242  0.599852  0.960322  464.43             2          1"
      ]
     },
     "metadata": {},
     "output_type": "display_data"
    }
   ],
   "source": [
    "features = [c for c in df.columns if c not in [target_col, \"target_label\"]]\n",
    "scaler = MinMaxScaler()\n",
    "\n",
    "df_scaled = df.copy()\n",
    "df_scaled[features] = scaler.fit_transform(df_scaled[features])\n",
    "\n",
    "# Apply log transform on skewed features\n",
    "for col in features:\n",
    "    if df_scaled[col].skew() > 1:\n",
    "        df_scaled[f\"{col}_log\"] = np.log1p(df_scaled[col])\n",
    "\n",
    "# Integer categorisation (binning example for AT)\n",
    "df_scaled[\"AT_binned\"] = pd.cut(df_scaled[\"AT\"], bins=4, labels=False)\n",
    "\n",
    "print(\"Transformed dataset shape:\", df_scaled.shape)\n",
    "display(df_scaled.head())\n"
   ]
  },
  {
   "cell_type": "markdown",
   "id": "afcc685c",
   "metadata": {},
   "source": [
    "## 5. Feature Engineering"
   ]
  },
  {
   "cell_type": "code",
   "execution_count": 6,
   "id": "eb4524fb",
   "metadata": {},
   "outputs": [
    {
     "name": "stdout",
     "output_type": "stream",
     "text": [
      "Added engineered features (AT_sq, AT_x_V, features_mean).\n"
     ]
    }
   ],
   "source": [
    "# Add polynomial, interaction, and aggregate features\n",
    "df_scaled[\"features_mean\"] = df_scaled[features].mean(axis=1)\n",
    "df_scaled[\"AT_sq\"] = df_scaled[\"AT\"] ** 2\n",
    "df_scaled[\"AT_x_V\"] = df_scaled[\"AT\"] * df_scaled[\"V\"]\n",
    "\n",
    "print(\"Added engineered features (AT_sq, AT_x_V, features_mean).\")\n"
   ]
  },
  {
   "cell_type": "markdown",
   "id": "dab8f138",
   "metadata": {},
   "source": [
    "## 6. Train-Test Split + Cross-Validation"
   ]
  },
  {
   "cell_type": "code",
   "execution_count": 7,
   "id": "b3d2836e",
   "metadata": {},
   "outputs": [
    {
     "data": {
      "text/html": [
       "<div>\n",
       "<style scoped>\n",
       "    .dataframe tbody tr th:only-of-type {\n",
       "        vertical-align: middle;\n",
       "    }\n",
       "\n",
       "    .dataframe tbody tr th {\n",
       "        vertical-align: top;\n",
       "    }\n",
       "\n",
       "    .dataframe thead th {\n",
       "        text-align: right;\n",
       "    }\n",
       "</style>\n",
       "<table border=\"1\" class=\"dataframe\">\n",
       "  <thead>\n",
       "    <tr style=\"text-align: right;\">\n",
       "      <th></th>\n",
       "      <th>Feature_Set</th>\n",
       "      <th>n_features</th>\n",
       "      <th>Accuracy</th>\n",
       "      <th>F1_score</th>\n",
       "    </tr>\n",
       "  </thead>\n",
       "  <tbody>\n",
       "    <tr>\n",
       "      <th>0</th>\n",
       "      <td>A_baseline</td>\n",
       "      <td>4</td>\n",
       "      <td>0.834901</td>\n",
       "      <td>0.834902</td>\n",
       "    </tr>\n",
       "    <tr>\n",
       "      <th>1</th>\n",
       "      <td>B_binned</td>\n",
       "      <td>5</td>\n",
       "      <td>0.834901</td>\n",
       "      <td>0.834902</td>\n",
       "    </tr>\n",
       "    <tr>\n",
       "      <th>2</th>\n",
       "      <td>C_squared</td>\n",
       "      <td>5</td>\n",
       "      <td>0.834901</td>\n",
       "      <td>0.834902</td>\n",
       "    </tr>\n",
       "    <tr>\n",
       "      <th>3</th>\n",
       "      <td>D_interaction</td>\n",
       "      <td>5</td>\n",
       "      <td>0.817137</td>\n",
       "      <td>0.816256</td>\n",
       "    </tr>\n",
       "    <tr>\n",
       "      <th>4</th>\n",
       "      <td>E_aggregate</td>\n",
       "      <td>5</td>\n",
       "      <td>0.835946</td>\n",
       "      <td>0.837302</td>\n",
       "    </tr>\n",
       "  </tbody>\n",
       "</table>\n",
       "</div>"
      ],
      "text/plain": [
       "     Feature_Set  n_features  Accuracy  F1_score\n",
       "0     A_baseline           4  0.834901  0.834902\n",
       "1       B_binned           5  0.834901  0.834902\n",
       "2      C_squared           5  0.834901  0.834902\n",
       "3  D_interaction           5  0.817137  0.816256\n",
       "4    E_aggregate           5  0.835946  0.837302"
      ]
     },
     "metadata": {},
     "output_type": "display_data"
    }
   ],
   "source": [
    "# Define 5 feature sets\n",
    "feature_sets = {\n",
    "    \"A_baseline\": features,\n",
    "    \"B_binned\": features + [\"AT_binned\"],\n",
    "    \"C_squared\": features + [\"AT_sq\"],\n",
    "    \"D_interaction\": features + [\"AT_x_V\"],\n",
    "    \"E_aggregate\": features + [\"features_mean\"]\n",
    "}\n",
    "\n",
    "results = []\n",
    "X_full = df_scaled.drop(columns=[target_col, \"target_label\"])\n",
    "y = df_scaled[\"target_label\"]\n",
    "\n",
    "X_train, X_test, y_train, y_test = train_test_split(\n",
    "    X_full, y, test_size=0.2, stratify=y, random_state=42\n",
    ")\n",
    "\n",
    "# Loop through each feature set to train and evaluate models\n",
    "for name, feats in feature_sets.items():\n",
    "    # Initialize a decision tree classifier with fixed max depth and random state\n",
    "    model = DecisionTreeClassifier(max_depth=6, random_state=42)\n",
    "    # Train the model using only the selected features\n",
    "    model.fit(X_train[feats], y_train)\n",
    "    # Make predictions on the test set\n",
    "    y_pred = model.predict(X_test[feats])\n",
    "    # Calculate accuracy score\n",
    "    acc = accuracy_score(y_test, y_pred)\n",
    "    # Calculate weighted F1 score (appropriate for imbalanced classes)\n",
    "    f1 = f1_score(y_test, y_pred, average=\"weighted\")\n",
    "    # Store results for this feature set\n",
    "    results.append([name, len(feats), acc, f1])\n",
    "\n",
    "# Comparison table\n",
    "results_df = pd.DataFrame(results, columns=[\"Feature_Set\", \"n_features\", \"Accuracy\", \"F1_score\"])\n",
    "display(results_df)\n"
   ]
  },
  {
   "cell_type": "markdown",
   "id": "857f5eea",
   "metadata": {},
   "source": [
    "## 7. Grid Search (Hyperparameter Tuning)"
   ]
  },
  {
   "cell_type": "code",
   "execution_count": 8,
   "id": "60668ffb",
   "metadata": {},
   "outputs": [
    {
     "name": "stdout",
     "output_type": "stream",
     "text": [
      "Best feature set: E_aggregate\n"
     ]
    },
    {
     "data": {
      "image/png": "[encoded data removed]",
      "text/plain": [
       "<Figure size 640x480 with 2 Axes>"
      ]
     },
     "metadata": {},
     "output_type": "display_data"
    }
   ],
   "source": [
    "best_set = results_df.sort_values(\"Accuracy\", ascending=False).iloc[0][\"Feature_Set\"]\n",
    "print(\"Best feature set:\", best_set)\n",
    "\n",
    "best_feats = feature_sets[best_set]\n",
    "best_model = DecisionTreeClassifier(max_depth=6, random_state=42)\n",
    "best_model.fit(X_train[best_feats], y_train)\n",
    "y_pred = best_model.predict(X_test[best_feats])\n",
    "\n",
    "cm = confusion_matrix(y_test, y_pred)\n",
    "sns.heatmap(cm, annot=True, fmt=\"d\", cmap=\"Blues\")\n",
    "plt.title(f\"Confusion Matrix - {best_set}\")\n",
    "plt.show()\n"
   ]
  }
 ],
 "metadata": {
  "kernelspec": {
   "display_name": "Python [conda env:base] *",
   "language": "python",
   "name": "conda-base-py"
  },
  "language_info": {
   "codemirror_mode": {
    "name": "ipython",
    "version": 3
   },
   "file_extension": ".py",
   "mimetype": "text/x-python",
   "name": "python",
   "nbconvert_exporter": "python",
   "pygments_lexer": "ipython3",
   "version": "3.13.5"
  }
 },
 "nbformat": 4,
 "nbformat_minor": 5
}
